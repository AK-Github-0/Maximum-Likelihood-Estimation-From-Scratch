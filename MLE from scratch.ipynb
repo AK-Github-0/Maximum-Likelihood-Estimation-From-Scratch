{
 "cells": [
  {
   "cell_type": "code",
   "execution_count": 33,
   "id": "ced84604",
   "metadata": {},
   "outputs": [],
   "source": [
    "string = \"My name is Abdullah Khan Abdullah Khan\""
   ]
  },
  {
   "cell_type": "code",
   "execution_count": 34,
   "id": "1d8dc6ba",
   "metadata": {},
   "outputs": [],
   "source": [
    "unigram = string.split()"
   ]
  },
  {
   "cell_type": "code",
   "execution_count": 35,
   "id": "f0c35c0b",
   "metadata": {},
   "outputs": [
    {
     "data": {
      "text/plain": [
       "['My', 'name', 'is', 'Abdullah', 'Khan', 'Abdullah', 'Khan']"
      ]
     },
     "execution_count": 35,
     "metadata": {},
     "output_type": "execute_result"
    }
   ],
   "source": [
    "unigram"
   ]
  },
  {
   "cell_type": "code",
   "execution_count": 36,
   "id": "b525d862",
   "metadata": {},
   "outputs": [],
   "source": [
    "bigram = []\n",
    "for x in range(len(unigram)-1):\n",
    "    bigram.append(unigram[x]+' '+unigram[x+1])"
   ]
  },
  {
   "cell_type": "code",
   "execution_count": 37,
   "id": "2358a993",
   "metadata": {},
   "outputs": [
    {
     "data": {
      "text/plain": [
       "['My name',\n",
       " 'name is',\n",
       " 'is Abdullah',\n",
       " 'Abdullah Khan',\n",
       " 'Khan Abdullah',\n",
       " 'Abdullah Khan']"
      ]
     },
     "execution_count": 37,
     "metadata": {},
     "output_type": "execute_result"
    }
   ],
   "source": [
    "bigram"
   ]
  },
  {
   "cell_type": "code",
   "execution_count": 43,
   "id": "de256ac5",
   "metadata": {},
   "outputs": [],
   "source": [
    "def prob(w,e):\n",
    "    C  = 0\n",
    "    C2 = 0\n",
    "    for x in range(len(unigram)-1):\n",
    "        if (e == unigram[x] and w == unigram[x+1]):\n",
    "            C = C + 1\n",
    "        if (e == unigram[x]):\n",
    "            C2 = C2 + 1\n",
    "    return C/C2"
   ]
  },
  {
   "cell_type": "code",
   "execution_count": 47,
   "id": "5d8a5359",
   "metadata": {},
   "outputs": [],
   "source": [
    "MLE = {}\n",
    "for x in range(len(unigram)-1):\n",
    "    MLE[unigram[x]+unigram[x+1]]=prob(unigram[x],unigram[x+1])"
   ]
  },
  {
   "cell_type": "code",
   "execution_count": null,
   "id": "9a7612c1",
   "metadata": {},
   "outputs": [],
   "source": []
  },
  {
   "cell_type": "code",
   "execution_count": 48,
   "id": "c334b294",
   "metadata": {},
   "outputs": [
    {
     "data": {
      "text/plain": [
       "{'Myname': 0.0,\n",
       " 'nameis': 0.0,\n",
       " 'isAbdullah': 0.0,\n",
       " 'AbdullahKhan': 1.0,\n",
       " 'KhanAbdullah': 1.0}"
      ]
     },
     "execution_count": 48,
     "metadata": {},
     "output_type": "execute_result"
    }
   ],
   "source": [
    "MLE"
   ]
  },
  {
   "cell_type": "code",
   "execution_count": null,
   "id": "27e91c3f",
   "metadata": {},
   "outputs": [],
   "source": []
  }
 ],
 "metadata": {
  "kernelspec": {
   "display_name": "Python 3 (ipykernel)",
   "language": "python",
   "name": "python3"
  },
  "language_info": {
   "codemirror_mode": {
    "name": "ipython",
    "version": 3
   },
   "file_extension": ".py",
   "mimetype": "text/x-python",
   "name": "python",
   "nbconvert_exporter": "python",
   "pygments_lexer": "ipython3",
   "version": "3.9.16"
  }
 },
 "nbformat": 4,
 "nbformat_minor": 5
}
